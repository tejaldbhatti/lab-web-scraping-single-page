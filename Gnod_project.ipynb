{
 "cells": [
  {
   "cell_type": "code",
   "execution_count": 78,
   "metadata": {},
   "outputs": [],
   "source": [
    "# # this notebook is divided into total 5 parts\n",
    "# Part 1:  Generating hot 100 songs --- using python library beautifulsoup\n",
    "#          and using  webscraping method exctracted position song title and artist name\n",
    "# Part 2:  Using spotipy librabry make connection to spotify \n",
    "# Part 3:  asking user's wish for song (constraint -- atleast it should be more than 3 letters)  \n",
    "#          if user's song is in top 100 it will give random song from Hot 100\n",
    "# Part 4:  if the userr song is not in top 100 than exctracting the audio feature of user's song from spotify\n",
    "# Part 5:  Fianl_data_K_cluster.csv finle contains large play list with artist name and divided into 13 clusters using\n",
    "#          K clustering algoritham (Fianl_data_K_cluster.csv is the output of \"KMeans_Clusturing_Big_Platlist\" notebook )  \n",
    "#          user,s song is transformed according to final_data_K_cluster.csv\n",
    "# output : recomandation to user a song which suits its wish song    \n",
    "        "
   ]
  },
  {
   "cell_type": "code",
   "execution_count": 79,
   "metadata": {},
   "outputs": [],
   "source": [
    "from bs4 import BeautifulSoup\n",
    "import requests\n",
    "import pandas as pd\n",
    "from random import randint\n",
    "from pickle import load\n",
    "import pandas as pd\n",
    "from pandas import json_normalize"
   ]
  },
  {
   "cell_type": "markdown",
   "metadata": {},
   "source": [
    "# Part 1: Generating Top 100 Songs"
   ]
  },
  {
   "cell_type": "code",
   "execution_count": 80,
   "metadata": {},
   "outputs": [
    {
     "name": "stdout",
     "output_type": "stream",
     "text": [
      "Response code:  200\n"
     ]
    }
   ],
   "source": [
    "url = \"http://www.popvortex.com/music/charts/top-100-songs.php\"\n",
    "response = requests.get(url)\n",
    "print(\"Response code: \",response.status_code)\n",
    "\n",
    "# 4.1. parse html (create the 'soup')\n",
    "soup = BeautifulSoup(response.content, \"html.parser\")"
   ]
  },
  {
   "cell_type": "code",
   "execution_count": 81,
   "metadata": {
    "scrolled": true
   },
   "outputs": [],
   "source": [
    "# Getting the Position\n",
    "position = []\n",
    "for i in soup.select(\"p.chart-position\"):\n",
    "    position.append(i.get_text())\n",
    "\n",
    "\n",
    "# Extracting Titles    \n",
    "title = []\n",
    "# for t in soup.select(\".title-artist\"):\n",
    "#     title.append(t.cite.get_text())\n",
    "    \n",
    "for t in soup.select(\"p.title-artist cite.title\"):\n",
    "    title.append(t.get_text())\n",
    "    \n",
    "    \n",
    "# Extracting Artist Name    \n",
    "artist_name = []\n",
    "for t2 in soup.select(\"p.title-artist em.artist\"):\n",
    "    artist_name.append(t2.get_text())\n",
    "        \n",
    "        \n",
    "repertoire = pd.DataFrame({\"position\":position,\n",
    "                           \"song_title\":title,\n",
    "                           \"Artist_Name\":artist_name                           \n",
    "                          })\n",
    "\n",
    "#Coverting the song_title into lower case -- in order to compare it easily\n",
    "repertoire[\"song_title\"] = repertoire[\"song_title\"].str.lower()\n",
    "repertoire[\"song_title\"] = repertoire[\"song_title\"].str.strip()        "
   ]
  },
  {
   "cell_type": "markdown",
   "metadata": {},
   "source": [
    "# Part 2 (Making connection with spotify)"
   ]
  },
  {
   "cell_type": "code",
   "execution_count": 82,
   "metadata": {},
   "outputs": [],
   "source": [
    "import spotipy\n",
    "from spotipy.oauth2 import SpotifyClientCredentials\n",
    "\n",
    "# Set up your Spotify credentials\n",
    "secrets_file = open(\"secrets.txt\",\"r\")\n",
    "string = secrets_file.read()\n",
    "\n",
    "secrets_dict={}\n",
    "for line in string.split('\\n'):\n",
    "    if len(line) > 0:\n",
    "        #print(line.split(':'))\n",
    "        secrets_dict[line.split(':')[0]]=line.split(':')[1].strip()\n",
    "        \n",
    "\n",
    "#Initialize SpotiPy with user credentials\n",
    "sp = spotipy.Spotify(auth_manager=SpotifyClientCredentials(client_id=secrets_dict['clientid'],\n",
    "                                                           client_secret=secrets_dict['clientsecret']))       "
   ]
  },
  {
   "cell_type": "markdown",
   "metadata": {},
   "source": [
    "# Part 3: Taking input from user "
   ]
  },
  {
   "cell_type": "code",
   "execution_count": 83,
   "metadata": {},
   "outputs": [
    {
     "name": "stdout",
     "output_type": "stream",
     "text": [
      "Please give your Song Title: hr\n"
     ]
    }
   ],
   "source": [
    "user_song = input(\"Please give your Song Title: \")\n"
   ]
  },
  {
   "cell_type": "code",
   "execution_count": 84,
   "metadata": {},
   "outputs": [
    {
     "name": "stdout",
     "output_type": "stream",
     "text": [
      "Please give your Song Title: heart\n",
      "Sorry we could not find your song in Top 100, we would like to recommend song\n"
     ]
    }
   ],
   "source": [
    "if len(user_song) > 3:\n",
    "    user_song = user_song.lower().strip()\n",
    "else:\n",
    "    user_song = input(\"Please give your Song Title: \")\n",
    "\n",
    "    \n",
    "result = repertoire[\"song_title\"].apply(lambda x: user_song in x)\n",
    "if (result == False).all() != True:\n",
    "     print(repertoire['song_title'][randint(0,99)])\n",
    "else:\n",
    "     print(\"Sorry we could not find your song in Top 100, we would like to recommend song\")   \n",
    "        \n",
    "#result.value_counts() # it check weather the user song is in the list or not        "
   ]
  },
  {
   "cell_type": "markdown",
   "metadata": {},
   "source": [
    "# Part 4 Finding the audio features and related cluser for user's song"
   ]
  },
  {
   "cell_type": "code",
   "execution_count": 85,
   "metadata": {},
   "outputs": [],
   "source": [
    "song_name = user_song \n",
    "#Searching user's song on spotify\n",
    "results = sp.search(q=song_name, limit=1)\n",
    "track = results['tracks']['items'][0]\n",
    "track_uri = track[\"uri\"]\n",
    "#track_uri \n",
    "\n",
    "\n",
    "\n",
    "# Retrieve audio features\n",
    "audio_features_user_song_1 = sp.audio_features(track_uri)\n",
    "#print(audio_features_user_song_1)\n",
    "\n",
    "\n",
    "\n",
    "\n",
    "# converting audio feautres into dataframe\n",
    "audio_features_user_song_1 = json_normalize(audio_features_user_song_1)\n",
    "audio_features_user_song_1[\"popularity\"] = track[\"popularity\"]\n",
    "\n",
    "\n",
    "# Taking only Numerical data\n",
    "audio_features_user_song = audio_features_user_song_1[[\"popularity\",\"danceability\",\"energy\",\"key\",\"loudness\",\"mode\",\"speechiness\",\"acousticness\",\"instrumentalness\",\"liveness\",\"valence\",\"tempo\",\"duration_ms\",\"time_signature\"]]\n",
    "#audio_features_user_song "
   ]
  },
  {
   "cell_type": "markdown",
   "metadata": {},
   "source": [
    "# Part 5 Scaling and modeling user's song and finding the related cluster"
   ]
  },
  {
   "cell_type": "code",
   "execution_count": 86,
   "metadata": {},
   "outputs": [
    {
     "name": "stderr",
     "output_type": "stream",
     "text": [
      "C:\\Users\\Denish\\anaconda1\\Lib\\site-packages\\sklearn\\base.py:486: UserWarning: X has feature names, but KMeans was fitted without feature names\n",
      "  warnings.warn(\n"
     ]
    }
   ],
   "source": [
    "pscaler = load(open(\"scaler_new.p\",'rb'))\n",
    "X_scaled_user_song = pscaler.transform(audio_features_user_song)\n",
    "\n",
    "# assigning the above song into cluster\n",
    "kmodel = load(open(\"kmeans.pkl\",\"rb\"))\n",
    "user_Song_cluster = kmodel.predict(audio_features_user_song)"
   ]
  },
  {
   "cell_type": "code",
   "execution_count": 87,
   "metadata": {},
   "outputs": [
    {
     "name": "stdout",
     "output_type": "stream",
     "text": [
      "Your recomended song is: Your Loft My Acid \n",
      "from artist : Death In Vegas\n"
     ]
    }
   ],
   "source": [
    "# Assigning the random song from cluster \n",
    "\n",
    "song_data = pd.read_csv(\"Fianl_data_K_cluster.csv\")\n",
    "song_data.drop([\"Unnamed: 0\"],axis =1,inplace =True)\n",
    "for i in range(0,song_data[\"Num_cluster\"].nunique()):\n",
    "    if i == user_Song_cluster:\n",
    "        new_df = song_data[song_data[\"Num_cluster\"] == i]\n",
    "        new_df.reset_index(drop=True, inplace=True)\n",
    "        recomende_song = new_df['song_name'][randint(new_df.index.min(),new_df.index.max())]\n",
    "print(f\"Your recomended song is: {recomende_song} \\nfrom artist : {new_df[new_df['song_name'] == recomende_song]['name'].iloc[0]}\")        "
   ]
  },
  {
   "cell_type": "code",
   "execution_count": null,
   "metadata": {},
   "outputs": [],
   "source": []
  },
  {
   "cell_type": "code",
   "execution_count": null,
   "metadata": {},
   "outputs": [],
   "source": []
  }
 ],
 "metadata": {
  "kernelspec": {
   "display_name": "Python 3 (ipykernel)",
   "language": "python",
   "name": "python3"
  },
  "language_info": {
   "codemirror_mode": {
    "name": "ipython",
    "version": 3
   },
   "file_extension": ".py",
   "mimetype": "text/x-python",
   "name": "python",
   "nbconvert_exporter": "python",
   "pygments_lexer": "ipython3",
   "version": "3.11.5"
  }
 },
 "nbformat": 4,
 "nbformat_minor": 4
}
